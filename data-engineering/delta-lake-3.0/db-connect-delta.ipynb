{
 "cells": [
  {
   "cell_type": "code",
   "execution_count": 3,
   "metadata": {},
   "outputs": [],
   "source": [
    "from databricks.connect import DatabricksSession\n",
    "from databricks.sdk.core import Config\n",
    "\n",
    "runtime_131 = '0601-182128-dcbte59m'\n",
    "runtime_132 = '0630-162806-47pefcs5'\n",
    "\n",
    "# Use DEFAULT configuration and pass an existing cluster_id\n",
    "# Cluster Runtime > 13.2 \n",
    "config = Config(\n",
    "    profile = 'DEFAULT',\n",
    "  cluster_id = runtime_132\n",
    ")\n",
    "\n",
    "spark = DatabricksSession.builder.sdkConfig(config).getOrCreate()"
   ]
  },
  {
   "attachments": {},
   "cell_type": "markdown",
   "metadata": {},
   "source": [
    "# Create a new Delta Table with Universal (Iceberg support) \n",
    "[Official Documentation](https://docs.delta.io/3.0.0rc1/delta-uniform.html)"
   ]
  },
  {
   "cell_type": "code",
   "execution_count": 4,
   "metadata": {},
   "outputs": [
    {
     "data": {
      "text/plain": [
       "DataFrame[]"
      ]
     },
     "execution_count": 4,
     "metadata": {},
     "output_type": "execute_result"
    }
   ],
   "source": [
    "catalog =  'rohitb_play_area'\n",
    "schema = 'sandbox'\n",
    "\n",
    "spark.sql(f\"use catalog {catalog}\")\n",
    "spark.sql(f\"use schema {schema}\")"
   ]
  },
  {
   "cell_type": "code",
   "execution_count": 14,
   "metadata": {},
   "outputs": [
    {
     "name": "stdout",
     "output_type": "stream",
     "text": [
      "+-------+---+\n",
      "|   name|age|\n",
      "+-------+---+\n",
      "|  Dilip| 85|\n",
      "|Amitabh| 73|\n",
      "|    Dev| 53|\n",
      "+-------+---+\n",
      "\n"
     ]
    }
   ],
   "source": [
    "# Universal Format is only supported on Unity Catalog tables.\n",
    "sample_table_name = 'iceberg_test'\n",
    "spark.sql(f\"drop table if exists {sample_table_name}\")\n",
    "\n",
    "spark.sql(f\"\"\"\n",
    "    CREATE OR REPLACE TABLE {sample_table_name}(name STRING, age INT) \n",
    "    USING DELTA \n",
    "    TBLPROPERTIES('delta.universalFormat.enabledFormats' = 'iceberg')\n",
    "\"\"\")\n",
    "spark.sql(f\"insert into {sample_table_name} values ('Amitabh', 73)\")\n",
    "spark.sql(f\"insert into {sample_table_name} values ('Dilip', 85)\")\n",
    "spark.sql(f\"insert into {sample_table_name} values ('Dev', 53)\")\n",
    "\n",
    "spark.sql(f\"select * from {sample_table_name}\").show()"
   ]
  },
  {
   "cell_type": "code",
   "execution_count": 17,
   "metadata": {},
   "outputs": [
    {
     "name": "stdout",
     "output_type": "stream",
     "text": [
      "+--------------------+--------------------+-------+\n",
      "|            col_name|           data_type|comment|\n",
      "+--------------------+--------------------+-------+\n",
      "|                name|              string|   null|\n",
      "|                 age|                 int|   null|\n",
      "|                    |                    |       |\n",
      "|# Delta Statistic...|                    |       |\n",
      "|        Column Names|col-2f585ded-2426...|       |\n",
      "|Column Selection ...|            first-32|       |\n",
      "|                    |                    |       |\n",
      "|# Detailed Table ...|                    |       |\n",
      "|             Catalog|    rohitb_play_area|       |\n",
      "|            Database|             sandbox|       |\n",
      "|               Table|        iceberg_test|       |\n",
      "|        Created Time|Fri Jun 30 19:33:...|       |\n",
      "|         Last Access|             UNKNOWN|       |\n",
      "|          Created By|              Spark |       |\n",
      "|                Type|             MANAGED|       |\n",
      "|            Location|s3://databricks-e...|       |\n",
      "|            Provider|               delta|       |\n",
      "|               Owner|rohit.bhagwat@dat...|       |\n",
      "| Is_managed_location|                true|       |\n",
      "|    Table Properties|[delta.columnMapp...|       |\n",
      "+--------------------+--------------------+-------+\n",
      "\n"
     ]
    }
   ],
   "source": [
    "spark.sql(f\"describe extended {sample_table_name}\").show()"
   ]
  },
  {
   "cell_type": "code",
   "execution_count": null,
   "metadata": {},
   "outputs": [],
   "source": []
  },
  {
   "attachments": {},
   "cell_type": "markdown",
   "metadata": {},
   "source": [
    "# Convert an existing Delta Table to support Uniform"
   ]
  },
  {
   "attachments": {},
   "cell_type": "markdown",
   "metadata": {},
   "source": [
    "## Download sample data from Kaggle"
   ]
  },
  {
   "cell_type": "code",
   "execution_count": null,
   "metadata": {},
   "outputs": [],
   "source": [
    "import os\n",
    "\n",
    "# os.environ['KAGGLE_USERNAME'] = \"...\"\n",
    "# os.environ['KAGGLE_KEY'] = \"...\"\n",
    "\n",
    "import kaggle\n",
    "\n",
    "kaggle.api.dataset_download_files('stefanoleone992/fifa-20-complete-player-dataset', path='./data', unzip=True)"
   ]
  },
  {
   "cell_type": "code",
   "execution_count": null,
   "metadata": {},
   "outputs": [],
   "source": [
    "spark.sql(\"\"\"\n",
    "ALTER TABLE rohitb_play_area.sandbox.transactions SET TBLPROPERTIES(\n",
    "  'delta.minReaderVersion' = '2',\n",
    "  'delta.minWriterVersion' = '7')\n",
    "  \"\"\")"
   ]
  },
  {
   "cell_type": "code",
   "execution_count": null,
   "metadata": {},
   "outputs": [],
   "source": [
    "spark.sql(\"\"\"\n",
    "ALTER TABLE rohitb_play_area.sandbox.transactions SET TBLPROPERTIES(\n",
    "  'delta.columnMapping.mode' = 'name',\n",
    "  'delta.universalFormat.enabledFormats' = 'iceberg')\n",
    "  \"\"\")"
   ]
  },
  {
   "cell_type": "code",
   "execution_count": null,
   "metadata": {},
   "outputs": [],
   "source": []
  },
  {
   "cell_type": "code",
   "execution_count": null,
   "metadata": {},
   "outputs": [],
   "source": [
    "with open(\"/Users/rohit.bhagwat/.kaggle/kaggle.json\") as file:\n",
    "    data = file.read()\n",
    "\n",
    "print(data)"
   ]
  },
  {
   "cell_type": "code",
   "execution_count": null,
   "metadata": {},
   "outputs": [],
   "source": []
  },
  {
   "cell_type": "code",
   "execution_count": null,
   "metadata": {},
   "outputs": [],
   "source": []
  }
 ],
 "metadata": {
  "kernelspec": {
   "display_name": ".venv",
   "language": "python",
   "name": "python3"
  },
  "language_info": {
   "codemirror_mode": {
    "name": "ipython",
    "version": 3
   },
   "file_extension": ".py",
   "mimetype": "text/x-python",
   "name": "python",
   "nbconvert_exporter": "python",
   "pygments_lexer": "ipython3",
   "version": "3.9.6"
  },
  "orig_nbformat": 4
 },
 "nbformat": 4,
 "nbformat_minor": 2
}
