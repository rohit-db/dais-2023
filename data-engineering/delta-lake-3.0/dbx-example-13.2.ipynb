{
 "cells": [
  {
   "cell_type": "markdown",
   "metadata": {
    "application/vnd.databricks.v1+cell": {
     "cellMetadata": {},
     "inputWidgets": {},
     "nuid": "0e86b563-6d27-4697-98f4-9d06fe0a062a",
     "showTitle": false,
     "title": ""
    }
   },
   "source": [
    "# In this Notebook\n",
    "- **Create a new delta table with Uniform support for Iceberg**\n",
    "    - Validate Delta Metadata\n",
    "    - Validate Iceberg Metadata\n",
    "    - Read from Snowflake\n",
    "    - Read from Google \n",
    "\n",
    "- **Convert an existing delta table to Uniform**\n",
    "- **Benchmark**\n",
    "    - Table Writes \n",
    "    - Upserts\n",
    "    - Table & Metadata size"
   ]
  },
  {
   "cell_type": "code",
   "execution_count": 0,
   "metadata": {
    "application/vnd.databricks.v1+cell": {
     "cellMetadata": {
      "byteLimit": 2048000,
      "rowLimit": 10000
     },
     "inputWidgets": {},
     "nuid": "c03384e5-a811-44e5-be08-fa3c5cfc9077",
     "showTitle": false,
     "title": ""
    }
   },
   "outputs": [],
   "source": [
    "# Use when using Spark Connect \n",
    "\n",
    "# from databricks.connect import DatabricksSession\n",
    "# from databricks.sdk.core import Config\n",
    "\n",
    "# runtime_131 = '0601-182128-dcbte59m'\n",
    "# runtime_132 = '0630-162806-47pefcs5'\n",
    "\n",
    "# # Use DEFAULT configuration and pass an existing cluster_id\n",
    "# # Cluster Runtime > 13.2 \n",
    "# config = Config(\n",
    "#     profile = 'DEFAULT',\n",
    "#   cluster_id = runtime_132\n",
    "# )\n",
    "\n",
    "# spark = DatabricksSession.builder.sdkConfig(config).getOrCreate()"
   ]
  },
  {
   "cell_type": "markdown",
   "metadata": {
    "application/vnd.databricks.v1+cell": {
     "cellMetadata": {},
     "inputWidgets": {},
     "nuid": "8816f680-6e6e-436f-908f-d3b55034b025",
     "showTitle": false,
     "title": ""
    }
   },
   "source": [
    "# Create a new Delta Table with Universal (Iceberg support) \n",
    "[Official Documentation](https://docs.delta.io/3.0.0rc1/delta-uniform.html)"
   ]
  },
  {
   "cell_type": "code",
   "execution_count": 0,
   "metadata": {
    "application/vnd.databricks.v1+cell": {
     "cellMetadata": {
      "byteLimit": 2048000,
      "rowLimit": 10000
     },
     "inputWidgets": {},
     "nuid": "76faeec7-f3a9-443f-b33e-b458a7d9ed7e",
     "showTitle": false,
     "title": ""
    }
   },
   "outputs": [],
   "source": [
    "catalog =  'rohitb_play_area'\n",
    "schema = 'sandbox'\n",
    "\n",
    "spark.sql(f\"use catalog {catalog}\")\n",
    "spark.sql(f\"use schema {schema}\")"
   ]
  },
  {
   "cell_type": "code",
   "execution_count": 0,
   "metadata": {
    "application/vnd.databricks.v1+cell": {
     "cellMetadata": {
      "byteLimit": 2048000,
      "rowLimit": 10000
     },
     "inputWidgets": {},
     "nuid": "42e34810-05fd-4fec-8876-f275afadd44e",
     "showTitle": false,
     "title": ""
    }
   },
   "outputs": [],
   "source": [
    "# Universal Format is only supported on Unity Catalog tables.\n",
    "sample_table_name = 'iceberg_test'\n",
    "spark.sql(f\"drop table if exists {sample_table_name}\")\n",
    "\n",
    "spark.sql(f\"\"\"\n",
    "    CREATE OR REPLACE TABLE {sample_table_name}(name STRING, age INT) \n",
    "    USING DELTA \n",
    "    TBLPROPERTIES('delta.universalFormat.enabledFormats' = 'iceberg')\n",
    "\"\"\")\n",
    "spark.sql(f\"insert into {sample_table_name} values ('Amitabh', 73)\")\n",
    "spark.sql(f\"insert into {sample_table_name} values ('Dilip', 85)\")\n",
    "spark.sql(f\"insert into {sample_table_name} values ('Dev', 53)\")\n",
    "\n",
    "spark.sql(f\"select * from {sample_table_name}\").display()"
   ]
  },
  {
   "cell_type": "code",
   "execution_count": 0,
   "metadata": {
    "application/vnd.databricks.v1+cell": {
     "cellMetadata": {
      "byteLimit": 2048000,
      "rowLimit": 10000
     },
     "inputWidgets": {},
     "nuid": "0483cf01-ac89-4fe1-9a58-738bcf295644",
     "showTitle": false,
     "title": ""
    }
   },
   "outputs": [],
   "source": [
    "spark.sql(f\"describe extended {sample_table_name}\").display()"
   ]
  },
  {
   "cell_type": "code",
   "execution_count": 0,
   "metadata": {
    "application/vnd.databricks.v1+cell": {
     "cellMetadata": {
      "byteLimit": 2048000,
      "rowLimit": 10000
     },
     "inputWidgets": {},
     "nuid": "a3472e26-720e-4d4f-aa37-2b65280ef8c5",
     "showTitle": false,
     "title": ""
    }
   },
   "outputs": [],
   "source": [
    "table_location = spark.sql(f\"describe extended {sample_table_name}\").filter(\"col_name='Location'\").collect()[0]['data_type']\n",
    "\n",
    "delta_log = f\"{table_location}/_delta_log\"\n",
    "iceberg_metadata = f\"{table_location}/metadata\"\n",
    "# data_files = f\"{table_location}/"
   ]
  },
  {
   "cell_type": "code",
   "execution_count": 0,
   "metadata": {
    "application/vnd.databricks.v1+cell": {
     "cellMetadata": {
      "byteLimit": 2048000,
      "rowLimit": 10000
     },
     "inputWidgets": {},
     "nuid": "266779d9-2b9e-4083-b567-307bcc67a4a9",
     "showTitle": false,
     "title": ""
    }
   },
   "outputs": [],
   "source": [
    "display(dbutils.fs.ls(table_location))"
   ]
  },
  {
   "cell_type": "code",
   "execution_count": 0,
   "metadata": {
    "application/vnd.databricks.v1+cell": {
     "cellMetadata": {
      "byteLimit": 2048000,
      "rowLimit": 10000
     },
     "inputWidgets": {},
     "nuid": "05d8f0f0-b825-4527-859c-b793c52cca82",
     "showTitle": false,
     "title": ""
    }
   },
   "outputs": [],
   "source": [
    "display(dbutils.fs.ls(delta_log))"
   ]
  },
  {
   "cell_type": "code",
   "execution_count": 0,
   "metadata": {
    "application/vnd.databricks.v1+cell": {
     "cellMetadata": {
      "byteLimit": 2048000,
      "rowLimit": 10000
     },
     "inputWidgets": {},
     "nuid": "658ca6ba-79c7-4084-826b-c179a3c93821",
     "showTitle": false,
     "title": ""
    }
   },
   "outputs": [],
   "source": [
    "display(dbutils.fs.ls(iceberg_metadata))"
   ]
  },
  {
   "cell_type": "markdown",
   "metadata": {
    "application/vnd.databricks.v1+cell": {
     "cellMetadata": {},
     "inputWidgets": {},
     "nuid": "b11ebf45-8b04-496d-9df5-31aa7e78f491",
     "showTitle": false,
     "title": ""
    }
   },
   "source": [
    "# Convert an existing Delta Table to support Uniform"
   ]
  },
  {
   "cell_type": "markdown",
   "metadata": {
    "application/vnd.databricks.v1+cell": {
     "cellMetadata": {},
     "inputWidgets": {},
     "nuid": "aa049503-a969-44b1-8fdc-2255dcd5b52c",
     "showTitle": false,
     "title": ""
    }
   },
   "source": [
    "## Download sample data from Kaggle"
   ]
  },
  {
   "cell_type": "code",
   "execution_count": 0,
   "metadata": {
    "application/vnd.databricks.v1+cell": {
     "cellMetadata": {
      "byteLimit": 2048000,
      "rowLimit": 10000
     },
     "inputWidgets": {},
     "nuid": "078e6771-dc22-4ef9-87e7-14c0795aca0b",
     "showTitle": false,
     "title": ""
    }
   },
   "outputs": [],
   "source": [
    "%pip install kaggle"
   ]
  },
  {
   "cell_type": "code",
   "execution_count": 0,
   "metadata": {
    "application/vnd.databricks.v1+cell": {
     "cellMetadata": {
      "byteLimit": 2048000,
      "rowLimit": 10000
     },
     "inputWidgets": {},
     "nuid": "b53cb18f-78b7-4611-aebd-8502a993ca8b",
     "showTitle": false,
     "title": ""
    }
   },
   "outputs": [],
   "source": [
    "import os\n",
    "os.environ['KAGGLE_USERNAME'] = \"rohitbhagwat\"\n",
    "os.environ['KAGGLE_KEY'] = \"b3776945f1cdae1227ee49ebded7d869\""
   ]
  },
  {
   "cell_type": "code",
   "execution_count": 0,
   "metadata": {
    "application/vnd.databricks.v1+cell": {
     "cellMetadata": {
      "byteLimit": 2048000,
      "rowLimit": 10000
     },
     "inputWidgets": {},
     "nuid": "31def626-bd9d-4dfc-9856-31f14dc3e076",
     "showTitle": false,
     "title": ""
    }
   },
   "outputs": [],
   "source": [
    "tmp_directory = '/tmp/fifa'\n",
    "\n",
    "import kaggle\n",
    "kaggle.api.dataset_download_files(\"stefanoleone992/fifa-20-complete-player-dataset\",  path = tmp_directory)\n",
    "\n",
    "import os \n",
    "for file in os.listdir(tmp_directory):\n",
    "  print(file)"
   ]
  },
  {
   "cell_type": "code",
   "execution_count": 0,
   "metadata": {
    "application/vnd.databricks.v1+cell": {
     "cellMetadata": {
      "byteLimit": 2048000,
      "rowLimit": 10000
     },
     "inputWidgets": {},
     "nuid": "b66714db-ce22-4d3f-ac5c-e6847009370e",
     "showTitle": false,
     "title": ""
    }
   },
   "outputs": [],
   "source": [
    "import zipfile\n",
    "\n",
    "# Create a ZipFile Object\n",
    "with zipfile.ZipFile(f\"{tmp_directory}/{file_name}\", 'r') as zip_obj:\n",
    "   # Extract all the contents of the zip file\n",
    "   zip_obj.extractall(path = tmp_directory)\n",
    "   \n",
    "   # list file names\n",
    "   print(\"Files in the zip file:\")\n",
    "   for file in zip_obj.namelist():\n",
    "       print(file)"
   ]
  },
  {
   "cell_type": "code",
   "execution_count": 0,
   "metadata": {
    "application/vnd.databricks.v1+cell": {
     "cellMetadata": {
      "byteLimit": 2048000,
      "rowLimit": 10000
     },
     "inputWidgets": {},
     "nuid": "5be88d24-2bde-4781-b20f-ebbc139def9c",
     "showTitle": false,
     "title": ""
    }
   },
   "outputs": [],
   "source": [
    "import pandas as pd\n",
    "\n",
    "pd.read_csv(f\"{tmp_directory}/players_15.csv\")"
   ]
  },
  {
   "cell_type": "code",
   "execution_count": 0,
   "metadata": {
    "application/vnd.databricks.v1+cell": {
     "cellMetadata": {
      "byteLimit": 2048000,
      "rowLimit": 10000
     },
     "inputWidgets": {},
     "nuid": "d2d96153-288a-4406-ac22-ebdb2bbc0eda",
     "showTitle": false,
     "title": ""
    }
   },
   "outputs": [],
   "source": [
    "spark.read.csv(f\"file:/{tmp_directory}/players*.csv\")"
   ]
  },
  {
   "cell_type": "code",
   "execution_count": 0,
   "metadata": {
    "application/vnd.databricks.v1+cell": {
     "cellMetadata": {
      "byteLimit": 2048000,
      "rowLimit": 10000
     },
     "inputWidgets": {},
     "nuid": "7126e894-f100-481d-ad3d-624fddae63ad",
     "showTitle": false,
     "title": ""
    }
   },
   "outputs": [],
   "source": [
    "%sh\n",
    "mkdir -p /tmp/toxicity_download\n",
    "kaggle datasets download -d stefanoleone992/fifa-20-complete-player-dataset  --force -p /tmp/fifa"
   ]
  },
  {
   "cell_type": "code",
   "execution_count": 0,
   "metadata": {
    "application/vnd.databricks.v1+cell": {
     "cellMetadata": {
      "byteLimit": 2048000,
      "rowLimit": 10000
     },
     "inputWidgets": {},
     "nuid": "e062db17-0393-449e-ae5c-66eba45c803f",
     "showTitle": false,
     "title": ""
    }
   },
   "outputs": [],
   "source": [
    "%sh\n",
    "cd /tmp/fifa\n",
    "ls"
   ]
  },
  {
   "cell_type": "code",
   "execution_count": 0,
   "metadata": {
    "application/vnd.databricks.v1+cell": {
     "cellMetadata": {
      "byteLimit": 2048000,
      "rowLimit": 10000
     },
     "inputWidgets": {},
     "nuid": "d5a5acd7-8463-4940-b2e8-786d29e9b0fe",
     "showTitle": false,
     "title": ""
    }
   },
   "outputs": [],
   "source": [
    "%sh\n",
    "cd /tmp/fifa\n",
    "unzip -o jigsaw-toxic-comment-classification-challenge.zip\n",
    "unzip -o train.csv.zip\n",
    "unzip -o test.csv.zip\n",
    "ls ."
   ]
  },
  {
   "cell_type": "code",
   "execution_count": 0,
   "metadata": {
    "application/vnd.databricks.v1+cell": {
     "cellMetadata": {
      "byteLimit": 2048000,
      "rowLimit": 10000
     },
     "inputWidgets": {},
     "nuid": "c2147dbe-c7f9-4122-9a83-61efefbf8acf",
     "showTitle": false,
     "title": ""
    }
   },
   "outputs": [],
   "source": [
    "spark.sql(\"\"\"\n",
    "ALTER TABLE rohitb_play_area.sandbox.transactions SET TBLPROPERTIES(\n",
    "  'delta.columnMapping.mode' = 'name',\n",
    "  'delta.universalFormat.enabledFormats' = 'iceberg')\n",
    "  \"\"\")"
   ]
  },
  {
   "cell_type": "code",
   "execution_count": 0,
   "metadata": {
    "application/vnd.databricks.v1+cell": {
     "cellMetadata": {},
     "inputWidgets": {},
     "nuid": "ae8eb352-b445-47c0-a267-0d604091a41b",
     "showTitle": false,
     "title": ""
    }
   },
   "outputs": [],
   "source": []
  }
 ],
 "metadata": {
  "application/vnd.databricks.v1+notebook": {
   "dashboards": [],
   "language": "python",
   "notebookMetadata": {
    "mostRecentlyExecutedCommandWithImplicitDF": {
     "commandId": 969987237388131,
     "dataframes": [
      "_sqldf"
     ]
    },
    "pythonIndentUnit": 2
   },
   "notebookName": "dbx-example-13.2",
   "widgets": {}
  },
  "kernelspec": {
   "display_name": ".venv",
   "language": "python",
   "name": "python3"
  },
  "language_info": {
   "codemirror_mode": {
    "name": "ipython",
    "version": 3
   },
   "file_extension": ".py",
   "mimetype": "text/x-python",
   "name": "python",
   "nbconvert_exporter": "python",
   "pygments_lexer": "ipython3",
   "version": "3.9.6"
  },
  "orig_nbformat": 4
 },
 "nbformat": 4,
 "nbformat_minor": 0
}
