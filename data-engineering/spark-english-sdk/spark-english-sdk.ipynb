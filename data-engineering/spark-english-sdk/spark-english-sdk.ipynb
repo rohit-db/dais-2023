{
 "cells": [
  {
   "cell_type": "code",
   "execution_count": 0,
   "metadata": {
    "application/vnd.databricks.v1+cell": {
     "cellMetadata": {},
     "inputWidgets": {},
     "nuid": "279410c0-20f9-4f08-9b35-c45e43d95c5f",
     "showTitle": false,
     "title": ""
    }
   },
   "outputs": [],
   "source": [
    "# Databricks Notebook Source\n"
   ]
  },
  {
   "cell_type": "markdown",
   "metadata": {
    "application/vnd.databricks.v1+cell": {
     "cellMetadata": {},
     "inputWidgets": {},
     "nuid": "7aa5a63c-d98c-43f4-8e6c-1547ae722c70",
     "showTitle": false,
     "title": ""
    }
   },
   "source": [
    "# Setup"
   ]
  },
  {
   "cell_type": "code",
   "execution_count": 0,
   "metadata": {
    "application/vnd.databricks.v1+cell": {
     "cellMetadata": {
      "byteLimit": 2048000,
      "rowLimit": 10000
     },
     "inputWidgets": {},
     "nuid": "f30454a6-330e-4f31-bd31-6095390e6d09",
     "showTitle": false,
     "title": ""
    }
   },
   "outputs": [],
   "source": [
    "%pip install pyspark-ai"
   ]
  },
  {
   "cell_type": "markdown",
   "metadata": {
    "application/vnd.databricks.v1+cell": {
     "cellMetadata": {},
     "inputWidgets": {},
     "nuid": "c3da2981-192b-49aa-aab6-7a2cf85ee572",
     "showTitle": false,
     "title": ""
    }
   },
   "source": [
    "**Requirements**\n",
    "\n",
    ".."
   ]
  },
  {
   "cell_type": "code",
   "execution_count": 0,
   "metadata": {
    "application/vnd.databricks.v1+cell": {
     "cellMetadata": {
      "byteLimit": 2048000,
      "rowLimit": 10000
     },
     "inputWidgets": {},
     "nuid": "09777cb4-2fe6-46ce-acac-7c02afce5c31",
     "showTitle": false,
     "title": ""
    }
   },
   "outputs": [],
   "source": [
    "import os\n",
    "os.environ['OPENAI_API_KEY'] = ''"
   ]
  },
  {
   "cell_type": "code",
   "execution_count": 0,
   "metadata": {
    "application/vnd.databricks.v1+cell": {
     "cellMetadata": {
      "byteLimit": 2048000,
      "rowLimit": 10000
     },
     "inputWidgets": {},
     "nuid": "a38bab7d-bf99-4f34-b0d3-8181e2daeb0e",
     "showTitle": false,
     "title": ""
    }
   },
   "outputs": [],
   "source": [
    "# Initialization\n",
    "\n",
    "from langchain.chat_models import ChatOpenAI\n",
    "from pyspark_ai import SparkAI\n",
    "\n",
    "# If 'gpt-4' is unavailable, use 'gpt-3.5-turbo' (might lower output quality)\n",
    "llm = ChatOpenAI(model_name='gpt-3.5-turbo', temperature=0)\n",
    "\n",
    "# Initialize SparkAI with the ChatOpenAI model\n",
    "spark_ai = SparkAI(llm=llm, verbose=True)\n",
    "\n",
    "# Activate partial functions for Spark DataFrame\n",
    "spark_ai.activate()"
   ]
  },
  {
   "cell_type": "markdown",
   "metadata": {
    "application/vnd.databricks.v1+cell": {
     "cellMetadata": {},
     "inputWidgets": {},
     "nuid": "de26b61a-7d9c-4fce-98bf-4adeec3d80bc",
     "showTitle": false,
     "title": ""
    }
   },
   "source": [
    "# Capabilities"
   ]
  },
  {
   "cell_type": "markdown",
   "metadata": {
    "application/vnd.databricks.v1+cell": {
     "cellMetadata": {},
     "inputWidgets": {},
     "nuid": "fce2b2b3-36bf-4a3c-97cf-bef999463e5c",
     "showTitle": false,
     "title": ""
    }
   },
   "source": [
    "**Data Ingestion**  \n",
    " \n",
    "The SDK can perform a web search using your provided description, utilize the LLM to determine the most appropriate result, and then smoothly incorporate this chosen web data into Spark—all accomplished in a single step."
   ]
  },
  {
   "cell_type": "code",
   "execution_count": 0,
   "metadata": {
    "application/vnd.databricks.v1+cell": {
     "cellMetadata": {
      "byteLimit": 2048000,
      "rowLimit": 10000
     },
     "inputWidgets": {},
     "nuid": "2b5d5ee9-7a56-414a-8c94-1e9eb221aa11",
     "showTitle": false,
     "title": ""
    }
   },
   "outputs": [],
   "source": [
    "auto_df = spark_ai.create_df(\"2022 USA national auto sales by brand\")\n",
    "\n",
    "# Alternative \n",
    "# auto_df = spark_ai.create_df(\"https://www.carpro.com/blog/full-year-2022-national-auto-sales-by-brand\")"
   ]
  },
  {
   "cell_type": "code",
   "execution_count": 0,
   "metadata": {
    "application/vnd.databricks.v1+cell": {
     "cellMetadata": {
      "byteLimit": 2048000,
      "rowLimit": 10000
     },
     "inputWidgets": {},
     "nuid": "757020d6-4387-451c-be06-84261a42a7dd",
     "showTitle": false,
     "title": ""
    }
   },
   "outputs": [],
   "source": [
    "auto_df = spark_ai.create_df(\"https://www.carpro.com/blog/full-year-2022-national-auto-sales-by-brand\")"
   ]
  },
  {
   "cell_type": "markdown",
   "metadata": {
    "application/vnd.databricks.v1+cell": {
     "cellMetadata": {},
     "inputWidgets": {},
     "nuid": "3eec78a7-bbbc-4ff9-8c71-b5eecd4ef946",
     "showTitle": false,
     "title": ""
    }
   },
   "source": [
    "**DataFrame Operations**\n",
    "\n",
    "The SDK provides functionalities on a given DataFrame that allow for transformation, plotting, and explanation based on your English description. These features significantly enhance the readability and efficiency of your code, making operations on DataFrames straightforward and intuitive."
   ]
  },
  {
   "cell_type": "code",
   "execution_count": 0,
   "metadata": {
    "application/vnd.databricks.v1+cell": {
     "cellMetadata": {},
     "inputWidgets": {},
     "nuid": "da3eec42-2fc5-42ad-8c78-342a04c43211",
     "showTitle": false,
     "title": ""
    }
   },
   "outputs": [],
   "source": [
    "auto_df.ai.plot()"
   ]
  },
  {
   "cell_type": "code",
   "execution_count": 0,
   "metadata": {
    "application/vnd.databricks.v1+cell": {
     "cellMetadata": {},
     "inputWidgets": {},
     "nuid": "a7a1d8c1-a9f5-442b-b50d-6b79b686363e",
     "showTitle": false,
     "title": ""
    }
   },
   "outputs": [],
   "source": [
    "# Plot with instructions\n",
    "auto_df.ai.plot(\"pie chart for US sales market shares, show the top 5 brands and the sum of others\")"
   ]
  },
  {
   "cell_type": "code",
   "execution_count": 0,
   "metadata": {
    "application/vnd.databricks.v1+cell": {
     "cellMetadata": {},
     "inputWidgets": {},
     "nuid": "6c38f4dd-27f7-40e0-bedd-7a1d593a42fb",
     "showTitle": false,
     "title": ""
    }
   },
   "outputs": [],
   "source": []
  },
  {
   "cell_type": "code",
   "execution_count": 0,
   "metadata": {
    "application/vnd.databricks.v1+cell": {
     "cellMetadata": {},
     "inputWidgets": {},
     "nuid": "40fea170-dd86-4b58-b938-21204819f21d",
     "showTitle": false,
     "title": ""
    }
   },
   "outputs": [],
   "source": [
    "# Dataframe Transformation\n",
    "auto_top_growth_df=auto_df.ai.transform(\"brand with the highest growth\")\n",
    "auto_top_growth_df.show()"
   ]
  },
  {
   "cell_type": "code",
   "execution_count": 0,
   "metadata": {
    "application/vnd.databricks.v1+cell": {
     "cellMetadata": {},
     "inputWidgets": {},
     "nuid": "e3441955-808c-4437-a16a-567eb482cb8a",
     "showTitle": false,
     "title": ""
    }
   },
   "outputs": [],
   "source": [
    "auto_top_growth_df.ai.verify(\"expect sales change percentage to be between -100 to 100\")"
   ]
  },
  {
   "cell_type": "markdown",
   "metadata": {
    "application/vnd.databricks.v1+cell": {
     "cellMetadata": {},
     "inputWidgets": {},
     "nuid": "8b017a72-e32b-4619-bc65-1782a1c94d7b",
     "showTitle": false,
     "title": ""
    }
   },
   "source": [
    "**User-Defined Functions (UDFs)**\n",
    "\n",
    "The SDK supports a streamlined process for creating UDFs. With a simple decorator, you only need to provide a docstring, and the AI handles the code completion."
   ]
  },
  {
   "cell_type": "code",
   "execution_count": 0,
   "metadata": {
    "application/vnd.databricks.v1+cell": {
     "cellMetadata": {},
     "inputWidgets": {},
     "nuid": "1efdd0b0-02e6-4319-b4ae-6b05aa6e5c69",
     "showTitle": false,
     "title": ""
    }
   },
   "outputs": [],
   "source": [
    "@spark_ai.udf\n",
    "def previous_years_sales(brand: str, current_year_sale: int, sales_change_percentage: float) -> int:\n",
    "    \"\"\"Calculate previous years sales from sales change percentage\"\"\"\n",
    "    ...\n",
    "    \n",
    "spark.udf.register(\"previous_years_sales\", previous_years_sales)\n",
    "auto_df.createOrReplaceTempView(\"autoDF\")\n",
    "\n",
    "spark.sql(\"select brand as brand, previous_years_sales(brand, us_sales, sales_change_percentage) as 2021_sales from autoDF\").show()"
   ]
  },
  {
   "cell_type": "markdown",
   "metadata": {
    "application/vnd.databricks.v1+cell": {
     "cellMetadata": {},
     "inputWidgets": {},
     "nuid": "b3622160-413b-45df-84d6-b28499765cee",
     "showTitle": false,
     "title": ""
    }
   },
   "source": [
    "**Caching**\n",
    "\n",
    "The SDK incorporates caching to boost execution speed, make reproducible results, and save cost."
   ]
  },
  {
   "cell_type": "code",
   "execution_count": 0,
   "metadata": {
    "application/vnd.databricks.v1+cell": {
     "cellMetadata": {},
     "inputWidgets": {},
     "nuid": "334c04a8-ac29-44b2-9331-77de604d4e84",
     "showTitle": false,
     "title": ""
    }
   },
   "outputs": [],
   "source": [
    "spark_ai.commit()"
   ]
  },
  {
   "cell_type": "markdown",
   "metadata": {
    "application/vnd.databricks.v1+cell": {
     "cellMetadata": {},
     "inputWidgets": {},
     "nuid": "bc804166-f190-43e1-84de-ec7c06f4ab8c",
     "showTitle": false,
     "title": ""
    }
   },
   "source": []
  }
 ],
 "metadata": {
  "application/vnd.databricks.v1+notebook": {
   "dashboards": [],
   "language": "python",
   "notebookMetadata": {
    "pythonIndentUnit": 2
   },
   "notebookName": "spark-english-sdk",
   "widgets": {}
  },
  "language_info": {
   "name": "python"
  },
  "orig_nbformat": 4
 },
 "nbformat": 4,
 "nbformat_minor": 0
}
